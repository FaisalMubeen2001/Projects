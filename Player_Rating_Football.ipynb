{
  "nbformat": 4,
  "nbformat_minor": 0,
  "metadata": {
    "colab": {
      "provenance": []
    },
    "kernelspec": {
      "name": "python3",
      "display_name": "Python 3"
    },
    "language_info": {
      "name": "python"
    }
  },
  "cells": [
    {
      "cell_type": "code",
      "execution_count": 2,
      "metadata": {
        "id": "NV3XPDOkGQ4K"
      },
      "outputs": [],
      "source": [
        "import numpy as np\n",
        "import pandas as pd\n",
        "import matplotlib.pyplot as plt"
      ]
    },
    {
      "cell_type": "code",
      "source": [
        "dataset = pd.read_csv('Football.csv')\n",
        "X = dataset.iloc[:, :-1].values\n",
        "y = dataset.iloc[:, -1].values"
      ],
      "metadata": {
        "id": "i1k-oTstGVXT"
      },
      "execution_count": 4,
      "outputs": []
    },
    {
      "cell_type": "code",
      "source": [
        "print(X)"
      ],
      "metadata": {
        "colab": {
          "base_uri": "https://localhost:8080/"
        },
        "id": "-amQ_atRGgoe",
        "outputId": "d78e3117-26b3-4fb6-e573-8689e83a790b"
      },
      "execution_count": 5,
      "outputs": [
        {
          "output_type": "stream",
          "name": "stdout",
          "text": [
            "[[90  0  0 ...  0  0  0]\n",
            " [81  0  1 ...  1  0  0]\n",
            " [60  0  0 ...  0  0  0]\n",
            " ...\n",
            " [90  0  0 ...  0  0  0]\n",
            " [80  0  0 ...  0  1  0]\n",
            " [35  0  1 ...  1  0  0]]\n"
          ]
        }
      ]
    },
    {
      "cell_type": "code",
      "source": [
        "print(y)"
      ],
      "metadata": {
        "colab": {
          "base_uri": "https://localhost:8080/"
        },
        "id": "N5Aw-_VzGhV3",
        "outputId": "fd5215f0-d35d-485a-d5a4-9c083ce0c2c5"
      },
      "execution_count": 6,
      "outputs": [
        {
          "output_type": "stream",
          "name": "stdout",
          "text": [
            "[6.9 7.  6.5 ... 5.7 4.8 7.4]\n"
          ]
        }
      ]
    },
    {
      "cell_type": "code",
      "source": [
        "from sklearn.model_selection import train_test_split\n",
        "X_train, X_test, y_train, y_test = train_test_split(X, y, test_size=0.35, random_state=42)"
      ],
      "metadata": {
        "id": "ZPCk2QJ6Gi_j"
      },
      "execution_count": 7,
      "outputs": []
    },
    {
      "cell_type": "code",
      "source": [
        "from sklearn.linear_model import LinearRegression\n",
        "regressor = LinearRegression()\n",
        "regressor.fit(X_train, y_train)"
      ],
      "metadata": {
        "id": "30l7qt-vG-lx",
        "colab": {
          "base_uri": "https://localhost:8080/",
          "height": 75
        },
        "outputId": "b297916b-6787-4ee0-fa07-c7d00e148474"
      },
      "execution_count": 8,
      "outputs": [
        {
          "output_type": "execute_result",
          "data": {
            "text/plain": [
              "LinearRegression()"
            ],
            "text/html": [
              "<style>#sk-container-id-1 {color: black;}#sk-container-id-1 pre{padding: 0;}#sk-container-id-1 div.sk-toggleable {background-color: white;}#sk-container-id-1 label.sk-toggleable__label {cursor: pointer;display: block;width: 100%;margin-bottom: 0;padding: 0.3em;box-sizing: border-box;text-align: center;}#sk-container-id-1 label.sk-toggleable__label-arrow:before {content: \"▸\";float: left;margin-right: 0.25em;color: #696969;}#sk-container-id-1 label.sk-toggleable__label-arrow:hover:before {color: black;}#sk-container-id-1 div.sk-estimator:hover label.sk-toggleable__label-arrow:before {color: black;}#sk-container-id-1 div.sk-toggleable__content {max-height: 0;max-width: 0;overflow: hidden;text-align: left;background-color: #f0f8ff;}#sk-container-id-1 div.sk-toggleable__content pre {margin: 0.2em;color: black;border-radius: 0.25em;background-color: #f0f8ff;}#sk-container-id-1 input.sk-toggleable__control:checked~div.sk-toggleable__content {max-height: 200px;max-width: 100%;overflow: auto;}#sk-container-id-1 input.sk-toggleable__control:checked~label.sk-toggleable__label-arrow:before {content: \"▾\";}#sk-container-id-1 div.sk-estimator input.sk-toggleable__control:checked~label.sk-toggleable__label {background-color: #d4ebff;}#sk-container-id-1 div.sk-label input.sk-toggleable__control:checked~label.sk-toggleable__label {background-color: #d4ebff;}#sk-container-id-1 input.sk-hidden--visually {border: 0;clip: rect(1px 1px 1px 1px);clip: rect(1px, 1px, 1px, 1px);height: 1px;margin: -1px;overflow: hidden;padding: 0;position: absolute;width: 1px;}#sk-container-id-1 div.sk-estimator {font-family: monospace;background-color: #f0f8ff;border: 1px dotted black;border-radius: 0.25em;box-sizing: border-box;margin-bottom: 0.5em;}#sk-container-id-1 div.sk-estimator:hover {background-color: #d4ebff;}#sk-container-id-1 div.sk-parallel-item::after {content: \"\";width: 100%;border-bottom: 1px solid gray;flex-grow: 1;}#sk-container-id-1 div.sk-label:hover label.sk-toggleable__label {background-color: #d4ebff;}#sk-container-id-1 div.sk-serial::before {content: \"\";position: absolute;border-left: 1px solid gray;box-sizing: border-box;top: 0;bottom: 0;left: 50%;z-index: 0;}#sk-container-id-1 div.sk-serial {display: flex;flex-direction: column;align-items: center;background-color: white;padding-right: 0.2em;padding-left: 0.2em;position: relative;}#sk-container-id-1 div.sk-item {position: relative;z-index: 1;}#sk-container-id-1 div.sk-parallel {display: flex;align-items: stretch;justify-content: center;background-color: white;position: relative;}#sk-container-id-1 div.sk-item::before, #sk-container-id-1 div.sk-parallel-item::before {content: \"\";position: absolute;border-left: 1px solid gray;box-sizing: border-box;top: 0;bottom: 0;left: 50%;z-index: -1;}#sk-container-id-1 div.sk-parallel-item {display: flex;flex-direction: column;z-index: 1;position: relative;background-color: white;}#sk-container-id-1 div.sk-parallel-item:first-child::after {align-self: flex-end;width: 50%;}#sk-container-id-1 div.sk-parallel-item:last-child::after {align-self: flex-start;width: 50%;}#sk-container-id-1 div.sk-parallel-item:only-child::after {width: 0;}#sk-container-id-1 div.sk-dashed-wrapped {border: 1px dashed gray;margin: 0 0.4em 0.5em 0.4em;box-sizing: border-box;padding-bottom: 0.4em;background-color: white;}#sk-container-id-1 div.sk-label label {font-family: monospace;font-weight: bold;display: inline-block;line-height: 1.2em;}#sk-container-id-1 div.sk-label-container {text-align: center;}#sk-container-id-1 div.sk-container {/* jupyter's `normalize.less` sets `[hidden] { display: none; }` but bootstrap.min.css set `[hidden] { display: none !important; }` so we also need the `!important` here to be able to override the default hidden behavior on the sphinx rendered scikit-learn.org. See: https://github.com/scikit-learn/scikit-learn/issues/21755 */display: inline-block !important;position: relative;}#sk-container-id-1 div.sk-text-repr-fallback {display: none;}</style><div id=\"sk-container-id-1\" class=\"sk-top-container\"><div class=\"sk-text-repr-fallback\"><pre>LinearRegression()</pre><b>In a Jupyter environment, please rerun this cell to show the HTML representation or trust the notebook. <br />On GitHub, the HTML representation is unable to render, please try loading this page with nbviewer.org.</b></div><div class=\"sk-container\" hidden><div class=\"sk-item\"><div class=\"sk-estimator sk-toggleable\"><input class=\"sk-toggleable__control sk-hidden--visually\" id=\"sk-estimator-id-1\" type=\"checkbox\" checked><label for=\"sk-estimator-id-1\" class=\"sk-toggleable__label sk-toggleable__label-arrow\">LinearRegression</label><div class=\"sk-toggleable__content\"><pre>LinearRegression()</pre></div></div></div></div></div>"
            ]
          },
          "metadata": {},
          "execution_count": 8
        }
      ]
    },
    {
      "cell_type": "code",
      "source": [
        "#Format to enter:([['Minutes played','Goals','Assists','Passes','Key Passes','Big Chances Created','Shots', 'Shots on Target','Yellow card','Red card']])\n",
        "regressor.predict([[90,3,0,30,0,0,4,3,0,0]])"
      ],
      "metadata": {
        "id": "57nkIGj8HIsU",
        "colab": {
          "base_uri": "https://localhost:8080/"
        },
        "outputId": "e2b167f6-80f8-4337-9bb5-8872cec54af5"
      },
      "execution_count": 13,
      "outputs": [
        {
          "output_type": "execute_result",
          "data": {
            "text/plain": [
              "array([8.94326762])"
            ]
          },
          "metadata": {},
          "execution_count": 13
        }
      ]
    },
    {
      "cell_type": "code",
      "source": [
        "y_pred = regressor.predict(X_test)\n",
        "np.set_printoptions(precision=2)\n",
        "print(np.concatenate((y_pred.reshape(len(y_pred),1), y_test.reshape(len(y_test),1)),1))"
      ],
      "metadata": {
        "id": "cqbO7NPrHSa_",
        "colab": {
          "base_uri": "https://localhost:8080/"
        },
        "outputId": "85a3cdb7-b45b-4442-9511-8ba920d97993"
      },
      "execution_count": 14,
      "outputs": [
        {
          "output_type": "stream",
          "name": "stdout",
          "text": [
            "[[ 6.56  6.8 ]\n",
            " [ 8.    7.8 ]\n",
            " [ 7.58  7.5 ]\n",
            " [ 7.88  8.2 ]\n",
            " [ 7.1   7.5 ]\n",
            " [ 6.5   6.1 ]\n",
            " [ 6.77  7.1 ]\n",
            " [ 6.45  6.5 ]\n",
            " [ 7.12  6.9 ]\n",
            " [ 6.64  6.9 ]\n",
            " [ 7.34  7.1 ]\n",
            " [ 6.69  6.2 ]\n",
            " [ 6.68  6.5 ]\n",
            " [ 7.8   7.6 ]\n",
            " [ 6.7   6.7 ]\n",
            " [ 6.68  6.4 ]\n",
            " [ 6.74  6.1 ]\n",
            " [ 7.31  6.9 ]\n",
            " [ 7.42  7.6 ]\n",
            " [ 7.18  6.6 ]\n",
            " [ 6.54  5.7 ]\n",
            " [ 8.32  8.7 ]\n",
            " [ 6.54  8.  ]\n",
            " [ 7.33  7.5 ]\n",
            " [ 6.5   6.7 ]\n",
            " [ 6.85  6.8 ]\n",
            " [ 6.69  6.3 ]\n",
            " [ 7.2   6.8 ]\n",
            " [ 7.09  6.9 ]\n",
            " [ 8.2   7.6 ]\n",
            " [ 6.59  7.1 ]\n",
            " [ 6.52  6.5 ]\n",
            " [ 8.59  9.2 ]\n",
            " [ 8.07  7.7 ]\n",
            " [ 8.4   8.2 ]\n",
            " [ 8.04  8.1 ]\n",
            " [ 6.9   5.9 ]\n",
            " [ 7.58  7.  ]\n",
            " [ 6.51  6.1 ]\n",
            " [ 8.05  7.9 ]\n",
            " [ 6.54  6.6 ]\n",
            " [ 6.99  6.8 ]\n",
            " [ 5.62  6.5 ]\n",
            " [ 6.99  6.9 ]\n",
            " [ 6.8   6.7 ]\n",
            " [ 6.41  5.9 ]\n",
            " [ 7.68  7.1 ]\n",
            " [ 6.59  6.6 ]\n",
            " [ 7.3   6.8 ]\n",
            " [ 8.04  8.1 ]\n",
            " [ 8.97  8.8 ]\n",
            " [ 7.31  7.3 ]\n",
            " [ 6.91  7.  ]\n",
            " [ 7.05  6.1 ]\n",
            " [ 7.05  6.8 ]\n",
            " [ 8.25  8.1 ]\n",
            " [ 8.28  8.5 ]\n",
            " [ 7.12  7.1 ]\n",
            " [ 6.8   6.8 ]\n",
            " [ 6.73  6.9 ]\n",
            " [ 6.46  5.7 ]\n",
            " [ 7.05  6.9 ]\n",
            " [ 6.64  6.6 ]\n",
            " [ 6.58  6.4 ]\n",
            " [ 6.95  6.7 ]\n",
            " [ 6.59  6.5 ]\n",
            " [ 7.05  7.4 ]\n",
            " [ 6.88  6.2 ]\n",
            " [ 6.73  6.3 ]\n",
            " [ 6.43  5.9 ]\n",
            " [ 6.52  6.3 ]\n",
            " [ 6.56  6.5 ]\n",
            " [ 6.97  6.8 ]\n",
            " [ 7.06  7.2 ]\n",
            " [ 6.57  6.7 ]\n",
            " [ 6.73  6.7 ]\n",
            " [ 7.56  9.1 ]\n",
            " [ 8.76  9.1 ]\n",
            " [ 6.58  6.8 ]\n",
            " [ 7.15  7.6 ]\n",
            " [ 7.32  7.2 ]\n",
            " [ 6.78  6.4 ]\n",
            " [ 7.29  7.2 ]\n",
            " [ 6.59  6.7 ]\n",
            " [ 5.38  5.1 ]\n",
            " [ 6.63  6.4 ]\n",
            " [ 6.85  7.2 ]\n",
            " [ 7.15  6.9 ]\n",
            " [ 7.12  7.1 ]\n",
            " [ 8.73  8.3 ]\n",
            " [ 6.54  6.1 ]\n",
            " [ 6.38  6.2 ]\n",
            " [ 6.79  6.3 ]\n",
            " [ 6.52  6.3 ]\n",
            " [ 6.84  6.4 ]\n",
            " [ 7.6   7.2 ]\n",
            " [ 7.81  7.9 ]\n",
            " [ 6.61  6.5 ]\n",
            " [ 6.5   6.3 ]\n",
            " [ 6.37  6.2 ]\n",
            " [ 6.45  6.5 ]\n",
            " [ 7.35  7.2 ]\n",
            " [ 6.55  6.3 ]\n",
            " [ 6.58  6.8 ]\n",
            " [ 7.88  7.3 ]\n",
            " [ 6.75  6.9 ]\n",
            " [ 6.4   6.4 ]\n",
            " [ 6.51  6.5 ]\n",
            " [ 8.55  8.  ]\n",
            " [ 8.1   8.6 ]\n",
            " [ 6.72  7.  ]\n",
            " [ 7.73  7.  ]\n",
            " [10.64 10.  ]\n",
            " [ 6.62  6.8 ]\n",
            " [ 7.01  7.2 ]\n",
            " [ 7.    6.7 ]\n",
            " [ 6.94  7.  ]\n",
            " [ 8.56  7.9 ]\n",
            " [ 7.09  6.9 ]\n",
            " [ 6.82  6.9 ]\n",
            " [ 7.19  7.5 ]\n",
            " [ 7.37  7.2 ]\n",
            " [ 6.87  6.6 ]\n",
            " [ 6.49  6.3 ]\n",
            " [ 6.69  6.6 ]\n",
            " [ 6.57  6.6 ]\n",
            " [ 6.66  6.6 ]\n",
            " [ 8.09  8.  ]\n",
            " [ 6.48  7.2 ]\n",
            " [ 6.63  6.3 ]\n",
            " [ 6.63  6.9 ]\n",
            " [ 7.6   7.5 ]\n",
            " [ 8.92  8.2 ]\n",
            " [ 6.92  6.8 ]\n",
            " [ 7.64  7.4 ]\n",
            " [ 7.1   7.3 ]\n",
            " [ 6.8   6.4 ]\n",
            " [ 6.79  6.9 ]\n",
            " [ 6.65  7.1 ]\n",
            " [ 7.89  7.5 ]\n",
            " [ 7.92  7.2 ]\n",
            " [ 6.94  5.9 ]\n",
            " [ 7.19  7.1 ]\n",
            " [ 6.89  7.  ]\n",
            " [ 8.26  9.3 ]\n",
            " [ 7.93  8.8 ]\n",
            " [ 6.5   6.5 ]\n",
            " [ 7.58  6.7 ]\n",
            " [ 6.4   6.4 ]\n",
            " [ 6.63  6.3 ]\n",
            " [ 6.48  6.3 ]\n",
            " [ 7.6   7.5 ]\n",
            " [ 6.44  6.2 ]\n",
            " [ 7.16  7.1 ]\n",
            " [ 6.75  7.  ]\n",
            " [ 8.37  9.1 ]\n",
            " [ 6.61  7.1 ]\n",
            " [ 7.48  8.  ]\n",
            " [ 6.51  6.7 ]\n",
            " [ 7.24  6.9 ]\n",
            " [ 7.08  6.7 ]\n",
            " [ 7.11  6.4 ]\n",
            " [ 6.55  6.9 ]\n",
            " [ 6.5   5.7 ]\n",
            " [ 7.43  7.2 ]\n",
            " [ 6.7   6.9 ]\n",
            " [ 6.96  7.  ]\n",
            " [ 6.67  6.6 ]\n",
            " [ 6.39  5.7 ]\n",
            " [ 6.88  6.5 ]\n",
            " [ 6.99  7.  ]\n",
            " [ 7.94  8.3 ]\n",
            " [ 7.67  7.4 ]\n",
            " [ 6.5   6.4 ]\n",
            " [ 6.89  7.2 ]\n",
            " [ 7.24  7.2 ]\n",
            " [ 5.4   6.9 ]\n",
            " [ 6.75  6.3 ]\n",
            " [ 7.31  7.6 ]\n",
            " [ 6.55  6.  ]\n",
            " [ 7.59  6.9 ]\n",
            " [ 6.55  6.4 ]\n",
            " [ 7.49  7.6 ]\n",
            " [ 6.92  6.8 ]\n",
            " [ 7.47  8.1 ]\n",
            " [ 6.98  7.  ]\n",
            " [ 7.46  7.7 ]\n",
            " [ 6.61  7.  ]\n",
            " [ 6.57  6.6 ]\n",
            " [ 6.75  6.6 ]\n",
            " [ 7.06  7.9 ]\n",
            " [ 6.47  6.2 ]\n",
            " [ 6.49  6.4 ]\n",
            " [ 7.51  7.2 ]\n",
            " [ 8.39  8.2 ]\n",
            " [ 6.89  7.1 ]\n",
            " [ 8.35  8.2 ]\n",
            " [ 6.53  6.6 ]\n",
            " [ 6.68  6.5 ]\n",
            " [ 6.91  6.7 ]\n",
            " [ 7.2   7.9 ]\n",
            " [ 7.14  7.4 ]\n",
            " [ 6.84  6.9 ]\n",
            " [ 7.53  7.3 ]\n",
            " [ 7.53  7.7 ]\n",
            " [ 7.36  6.9 ]\n",
            " [ 6.94  6.9 ]\n",
            " [ 6.93  7.3 ]\n",
            " [ 6.44  6.4 ]\n",
            " [ 7.3   7.2 ]\n",
            " [ 7.46  7.5 ]\n",
            " [ 6.69  6.9 ]\n",
            " [ 6.96  7.1 ]\n",
            " [ 6.77  7.  ]\n",
            " [ 6.56  6.8 ]\n",
            " [ 6.41  5.7 ]\n",
            " [ 9.26  9.3 ]\n",
            " [ 8.02  8.3 ]\n",
            " [ 8.    8.1 ]\n",
            " [ 6.86  6.8 ]\n",
            " [ 6.58  6.4 ]\n",
            " [ 6.96  7.5 ]\n",
            " [ 6.56  6.9 ]\n",
            " [ 6.72  6.9 ]\n",
            " [ 7.83  8.1 ]\n",
            " [ 6.5   6.6 ]\n",
            " [ 6.54  6.5 ]\n",
            " [ 7.01  7.6 ]\n",
            " [ 7.77  8.6 ]\n",
            " [ 6.79  6.6 ]\n",
            " [ 6.94  6.6 ]\n",
            " [ 8.55  9.  ]\n",
            " [ 7.34  7.1 ]\n",
            " [ 6.61  6.7 ]\n",
            " [ 6.73  6.8 ]\n",
            " [ 6.49  6.6 ]\n",
            " [ 7.48  7.4 ]\n",
            " [ 7.1   7.4 ]\n",
            " [ 7.21  7.  ]\n",
            " [ 7.36  7.5 ]\n",
            " [ 7.45  7.4 ]\n",
            " [ 6.61  6.3 ]\n",
            " [ 7.82  7.1 ]\n",
            " [ 6.88  7.1 ]\n",
            " [ 7.07  7.2 ]\n",
            " [ 7.37  7.4 ]\n",
            " [ 7.34  7.9 ]\n",
            " [ 7.84  7.6 ]\n",
            " [ 6.56  5.8 ]\n",
            " [ 7.87  7.2 ]\n",
            " [ 5.46  5.4 ]\n",
            " [ 7.12  7.2 ]\n",
            " [ 5.47  6.  ]\n",
            " [ 6.96  6.9 ]\n",
            " [ 7.3   8.  ]\n",
            " [ 6.86  7.  ]\n",
            " [ 7.1   7.3 ]\n",
            " [ 6.6   6.4 ]\n",
            " [ 8.5   8.9 ]\n",
            " [ 6.81  6.8 ]\n",
            " [ 7.09  7.1 ]\n",
            " [ 6.98  7.1 ]\n",
            " [ 7.07  7.  ]\n",
            " [ 7.13  7.1 ]\n",
            " [ 9.14 10.  ]\n",
            " [ 7.01  6.3 ]\n",
            " [ 6.88  6.8 ]\n",
            " [ 7.02  7.5 ]\n",
            " [ 7.28  6.9 ]\n",
            " [ 7.3   7.5 ]\n",
            " [ 6.7   6.7 ]\n",
            " [ 8.31  8.  ]\n",
            " [ 7.83  8.4 ]\n",
            " [ 6.53  6.6 ]\n",
            " [ 8.6   9.2 ]\n",
            " [ 5.17  5.5 ]\n",
            " [ 6.68  6.4 ]\n",
            " [ 6.59  6.7 ]\n",
            " [ 6.59  5.6 ]\n",
            " [ 7.05  7.3 ]\n",
            " [ 7.59  7.3 ]\n",
            " [ 6.55  6.6 ]\n",
            " [ 6.52  6.6 ]\n",
            " [ 6.92  6.1 ]\n",
            " [ 6.84  6.8 ]\n",
            " [ 6.84  7.  ]\n",
            " [ 8.23  8.9 ]\n",
            " [ 7.2   6.8 ]\n",
            " [ 6.44  6.5 ]\n",
            " [ 6.46  6.6 ]\n",
            " [ 6.56  6.6 ]\n",
            " [ 5.64  6.1 ]\n",
            " [ 6.54  6.4 ]\n",
            " [ 6.47  6.4 ]\n",
            " [ 7.53  7.4 ]\n",
            " [ 8.2   8.3 ]\n",
            " [ 7.09  7.2 ]\n",
            " [ 6.85  6.9 ]\n",
            " [ 7.02  7.3 ]\n",
            " [ 6.58  6.8 ]\n",
            " [ 8.23  8.2 ]\n",
            " [10.51 10.  ]\n",
            " [ 6.72  6.5 ]\n",
            " [ 8.14  9.7 ]\n",
            " [ 9.58  9.8 ]\n",
            " [ 7.35  7.1 ]\n",
            " [ 7.49  7.5 ]\n",
            " [ 6.51  6.7 ]\n",
            " [ 7.35  7.7 ]\n",
            " [ 7.38  7.1 ]\n",
            " [ 6.87  6.9 ]\n",
            " [ 7.6   7.3 ]\n",
            " [ 6.48  6.5 ]\n",
            " [ 6.5   6.6 ]\n",
            " [ 6.99  7.3 ]\n",
            " [ 7.98  8.1 ]\n",
            " [ 6.49  6.7 ]\n",
            " [ 6.51  6.1 ]\n",
            " [ 8.23  8.1 ]\n",
            " [ 8.43  8.7 ]\n",
            " [ 6.7   6.6 ]\n",
            " [ 7.06  7.3 ]\n",
            " [ 6.43  6.4 ]\n",
            " [ 7.08  6.1 ]\n",
            " [ 6.69  6.7 ]\n",
            " [ 6.51  6.2 ]\n",
            " [ 6.62  6.6 ]\n",
            " [ 7.9   7.8 ]\n",
            " [ 7.54  6.6 ]\n",
            " [ 8.29  8.2 ]\n",
            " [ 6.47  5.9 ]\n",
            " [ 6.81  6.3 ]\n",
            " [ 7.59  7.6 ]\n",
            " [ 6.54  6.3 ]\n",
            " [ 5.4   6.9 ]\n",
            " [ 6.73  6.5 ]\n",
            " [ 6.75  6.5 ]\n",
            " [ 7.02  7.2 ]\n",
            " [ 7.35  7.6 ]\n",
            " [ 6.53  7.2 ]\n",
            " [ 6.57  7.1 ]\n",
            " [ 6.91  6.6 ]\n",
            " [ 6.95  6.8 ]\n",
            " [ 6.89  6.7 ]\n",
            " [ 6.73  7.  ]\n",
            " [ 7.51  7.  ]\n",
            " [ 6.82  7.  ]\n",
            " [ 7.64  7.8 ]\n",
            " [ 7.37  7.7 ]\n",
            " [ 7.47  7.  ]\n",
            " [ 6.46  6.4 ]\n",
            " [ 6.9   6.9 ]\n",
            " [ 7.03  6.6 ]\n",
            " [ 7.1   7.  ]\n",
            " [ 7.23  7.2 ]\n",
            " [ 6.82  7.  ]\n",
            " [ 6.83  5.7 ]\n",
            " [ 6.63  6.8 ]\n",
            " [ 6.86  7.  ]\n",
            " [ 6.94  7.3 ]\n",
            " [ 7.08  6.8 ]\n",
            " [ 6.56  6.9 ]\n",
            " [ 6.68  6.7 ]\n",
            " [ 7.49  7.5 ]\n",
            " [ 6.54  6.9 ]\n",
            " [ 7.2   7.6 ]\n",
            " [ 6.49  6.2 ]\n",
            " [10.09 10.  ]\n",
            " [ 7.9   7.7 ]\n",
            " [ 8.22  8.2 ]\n",
            " [ 7.    6.5 ]\n",
            " [ 6.54  6.5 ]\n",
            " [ 7.32  7.1 ]\n",
            " [ 9.02  8.9 ]\n",
            " [ 7.36  7.4 ]\n",
            " [ 7.4   7.7 ]\n",
            " [ 6.59  6.1 ]\n",
            " [ 7.36  8.1 ]\n",
            " [ 6.58  6.8 ]\n",
            " [ 7.02  6.9 ]\n",
            " [ 7.02  7.1 ]\n",
            " [ 6.76  7.7 ]\n",
            " [ 6.45  6.3 ]\n",
            " [ 8.9   9.4 ]\n",
            " [ 6.85  6.9 ]\n",
            " [ 6.58  6.4 ]\n",
            " [ 7.17  7.2 ]\n",
            " [ 8.03  8.3 ]\n",
            " [ 6.76  6.1 ]\n",
            " [ 9.96 10.  ]\n",
            " [ 9.    9.8 ]\n",
            " [ 7.12  7.  ]\n",
            " [ 7.43  8.4 ]\n",
            " [ 8.94  9.6 ]\n",
            " [ 7.73  7.5 ]\n",
            " [ 9.82  9.8 ]\n",
            " [ 6.68  5.4 ]\n",
            " [ 7.46  6.8 ]\n",
            " [ 7.98  7.7 ]\n",
            " [ 6.94  8.1 ]\n",
            " [ 7.41  7.7 ]\n",
            " [ 7.16  7.  ]\n",
            " [ 6.48  6.6 ]\n",
            " [ 6.98  6.9 ]\n",
            " [ 8.06  7.8 ]\n",
            " [ 6.61  6.5 ]\n",
            " [ 6.5   6.6 ]\n",
            " [ 7.39  7.4 ]\n",
            " [ 7.21  7.  ]\n",
            " [ 6.57  6.3 ]\n",
            " [ 7.09  6.8 ]\n",
            " [ 6.58  5.7 ]\n",
            " [ 6.39  6.6 ]\n",
            " [ 6.89  7.1 ]\n",
            " [ 6.78  6.5 ]\n",
            " [ 6.76  7.5 ]\n",
            " [ 6.53  6.5 ]\n",
            " [ 6.98  7.1 ]\n",
            " [ 6.44  6.2 ]\n",
            " [ 8.18  7.1 ]\n",
            " [ 6.78  6.5 ]\n",
            " [ 6.6   6.8 ]\n",
            " [ 7.    7.1 ]\n",
            " [ 8.28  8.1 ]\n",
            " [ 6.49  6.5 ]\n",
            " [ 6.58  6.7 ]\n",
            " [ 7.64  7.3 ]\n",
            " [ 9.42  9.2 ]\n",
            " [ 6.77  5.5 ]\n",
            " [ 7.29  7.9 ]\n",
            " [ 6.51  6.4 ]]\n"
          ]
        }
      ]
    },
    {
      "cell_type": "code",
      "source": [
        "plt.plot(y_pred)\n",
        "plt.plot(y_test)\n",
        "plt.show()"
      ],
      "metadata": {
        "id": "FMpqtk1cHnoS",
        "colab": {
          "base_uri": "https://localhost:8080/",
          "height": 430
        },
        "outputId": "ff5b54e9-24b2-4dfa-bc05-4fd21fc814d2"
      },
      "execution_count": 15,
      "outputs": [
        {
          "output_type": "display_data",
          "data": {
            "text/plain": [
              "<Figure size 640x480 with 1 Axes>"
            ],
            "image/png": "[encoded data removed]"
          },
          "metadata": {}
        }
      ]
    },
    {
      "cell_type": "code",
      "source": [
        "#An R-Squared value shows how well the model predicts the outcome of the dependent variable. R-Squared values range from 0 to 1.\n",
        "from sklearn.metrics import r2_score\n",
        "print(r2_score(y_test,y_pred))"
      ],
      "metadata": {
        "id": "2iJMDPmxHvKa",
        "colab": {
          "base_uri": "https://localhost:8080/"
        },
        "outputId": "a5bbe677-44ae-42c3-9678-991f90e9dc27"
      },
      "execution_count": 16,
      "outputs": [
        {
          "output_type": "stream",
          "name": "stdout",
          "text": [
            "0.7577396582588224\n"
          ]
        }
      ]
    },
    {
      "cell_type": "code",
      "source": [],
      "metadata": {
        "id": "4ooUZbAJcG91"
      },
      "execution_count": null,
      "outputs": []
    }
  ]
}